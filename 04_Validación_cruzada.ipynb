{
  "nbformat": 4,
  "nbformat_minor": 0,
  "metadata": {
    "colab": {
      "name": "04 - Validación cruzada.ipynb",
      "provenance": [],
      "include_colab_link": true
    },
    "kernelspec": {
      "name": "ir",
      "display_name": "R"
    }
  },
  "cells": [
    {
      "cell_type": "markdown",
      "metadata": {
        "id": "view-in-github",
        "colab_type": "text"
      },
      "source": [
        "<a href=\"https://colab.research.google.com/github/elqvixote/CODIGO_TRADING_R_PLATZI/blob/master/04_Validaci%C3%B3n_cruzada.ipynb\" target=\"_parent\"><img src=\"https://colab.research.google.com/assets/colab-badge.svg\" alt=\"Open In Colab\"/></a>"
      ]
    },
    {
      "cell_type": "code",
      "metadata": {
        "colab": {
          "base_uri": "https://localhost:8080/"
        },
        "id": "P0QfWKmkON7s",
        "outputId": "429d457a-417b-4a87-d6c1-863baa9664c8"
      },
      "source": [
        "# Paquetes \n",
        "\n",
        "install.packages(\"devtools\")\n",
        "install.packages(\"caret\")\n",
        "devtools::install_github(\"nebulae-co/saber\")\n",
        "\n",
        "library(\"saber\")\n",
        "library(\"nnet\")\n",
        "library(\"caret\")\n",
        "library(\"parallel\")\n",
        "\n",
        "data(\"SB11_20112\")"
      ],
      "execution_count": null,
      "outputs": [
        {
          "output_type": "stream",
          "text": [
            "Installing package into ‘/usr/local/lib/R/site-library’\n",
            "(as ‘lib’ is unspecified)\n",
            "\n",
            "Installing package into ‘/usr/local/lib/R/site-library’\n",
            "(as ‘lib’ is unspecified)\n",
            "\n",
            "also installing the dependencies ‘numDeriv’, ‘SQUAREM’, ‘lava’, ‘prodlim’, ‘iterators’, ‘data.table’, ‘gower’, ‘ipred’, ‘timeDate’, ‘foreach’, ‘plyr’, ‘ModelMetrics’, ‘reshape2’, ‘recipes’, ‘pROC’\n",
            "\n",
            "\n",
            "Skipping install of 'saber' from a github remote, the SHA1 (04cded45) has not changed since last install.\n",
            "  Use `force = TRUE` to force installation\n",
            "\n",
            "Loading required package: lattice\n",
            "\n",
            "Loading required package: ggplot2\n",
            "\n"
          ],
          "name": "stderr"
        }
      ]
    },
    {
      "cell_type": "code",
      "metadata": {
        "id": "DfLTY5uzOaRR"
      },
      "source": [
        "# función de pliegue ------------------------------------------------------\n",
        "\n",
        "rmse_fold <- function(pliegue, form, datos,  nn_size){\n",
        "  pliegue_logic <- seq_len(nrow(datos)) %in% pliegue\n",
        "  entrena <- subset(datos, !pliegue_logic)\n",
        "  prueba <- subset(datos, pliegue_logic)\n",
        "  modelo <- nnet(form, data = datos, size = nn_size, linout = TRUE, trace = FALSE)\n",
        "  response_name <- setdiff(names(datos), modelo$coefnames)\n",
        "  Y_pronosticado <- predict(modelo, newdata = prueba)\n",
        "  rmse <- RMSE(Y_pronosticado, prueba[[response_name]])\n",
        "  rmse\n",
        "}"
      ],
      "execution_count": null,
      "outputs": []
    },
    {
      "cell_type": "code",
      "metadata": {
        "id": "bmaBkbnuOnLG"
      },
      "source": [
        "# Red neuronal \n",
        "\n",
        "tamano_muestral <- 5000\n",
        "neuronas <- 10\n",
        "n_pliegues <- 10\n",
        "\n",
        "\n",
        "c(\n",
        "  \"ECON_PERSONAS_HOGAR\",\n",
        "  \"ECON_CUARTOS\",\n",
        "  \"ECON_SN_LAVADORA\",\n",
        "  \"ECON_SN_NEVERA\",\n",
        "  \"ECON_SN_HORNO\",\n",
        "  \"ECON_SN_DVD\",\n",
        "  \"ECON_SN_MICROHONDAS\",\n",
        "  \"ECON_SN_AUTOMOVIL\",\n",
        "  \"MATEMATICAS_PUNT\"\n",
        ") -> variables\n",
        "\n",
        "indices_muestra <- seq_len(nrow(SB11_20112)) %in% sample(seq_len(nrow(SB11_20112)), tamano_muestral)\n",
        "\n",
        "muestra <- subset(SB11_20112, subset = indices_muestra, select = variables)\n",
        "muestra <- na.omit(muestra)"
      ],
      "execution_count": null,
      "outputs": []
    },
    {
      "cell_type": "code",
      "metadata": {
        "id": "VyXFOQ4kO6Qr"
      },
      "source": [
        "createFolds (muestra$MATEMATICAS_PUNT, k = n_pliegues) -> pliegues\n",
        "\n",
        "mclapply(\n",
        "  pliegues,\n",
        "  rmse_fold,\n",
        "  MATEMATICAS_PUNT ~ .,\n",
        "  muestra,\n",
        "  nn_size = neuronas,\n",
        "  mc.cores = 6\n",
        ") -> rmse_pliegues"
      ],
      "execution_count": null,
      "outputs": []
    },
    {
      "cell_type": "code",
      "metadata": {
        "colab": {
          "base_uri": "https://localhost:8080/",
          "height": 34
        },
        "id": "CBptwMgIQnlY",
        "outputId": "5bce4e70-7ba1-4df8-966c-da3c8889a593"
      },
      "source": [
        "rmse_pliegues <- unlist(rmse_pliegues)\n",
        "mean(rmse_pliegues)"
      ],
      "execution_count": null,
      "outputs": [
        {
          "output_type": "display_data",
          "data": {
            "text/plain": [
              "[1] 11.2791"
            ],
            "text/latex": "11.2790993877055",
            "text/markdown": "11.2790993877055",
            "text/html": [
              "11.2790993877055"
            ]
          },
          "metadata": {
            "tags": []
          }
        }
      ]
    },
    {
      "cell_type": "code",
      "metadata": {
        "colab": {
          "base_uri": "https://localhost:8080/",
          "height": 437
        },
        "id": "9pcCqsDhRDpY",
        "outputId": "b3da0aa5-baaa-4897-c7e9-ac8e281f9dbc"
      },
      "source": [
        "plot(rmse_pliegues, ylim = c(0, 14))\n",
        "abline(h = mean(rmse_pliegues), col = 2, lwd = 2)"
      ],
      "execution_count": null,
      "outputs": [
        {
          "output_type": "display_data",
          "data": {
            "image/png": "[encoded data removed]",
            "text/plain": [
              "plot without title"
            ]
          },
          "metadata": {
            "tags": [],
            "image/png": {
              "width": 420,
              "height": 420
            }
          }
        }
      ]
    },
    {
      "cell_type": "code",
      "metadata": {
        "colab": {
          "base_uri": "https://localhost:8080/"
        },
        "id": "sh5ZhsA5RfXn",
        "outputId": "f40098a3-cc1b-4069-8ee0-02f7dd89fe39"
      },
      "source": [
        "# Tidy approach\n",
        "\n",
        "library(\"dplyr\")\n",
        "library(\"magrittr\")"
      ],
      "execution_count": null,
      "outputs": [
        {
          "output_type": "stream",
          "text": [
            "\n",
            "Attaching package: ‘dplyr’\n",
            "\n",
            "\n",
            "The following objects are masked from ‘package:stats’:\n",
            "\n",
            "    filter, lag\n",
            "\n",
            "\n",
            "The following objects are masked from ‘package:base’:\n",
            "\n",
            "    intersect, setdiff, setequal, union\n",
            "\n",
            "\n"
          ],
          "name": "stderr"
        }
      ]
    },
    {
      "cell_type": "code",
      "metadata": {
        "colab": {
          "base_uri": "https://localhost:8080/",
          "height": 454
        },
        "id": "ue8fBJLDRzxX",
        "outputId": "bfa8cd17-152d-4320-a837-6d0ef8c7c2d3"
      },
      "source": [
        "tamano_muestral <- 5000\n",
        "neuronas <- 10\n",
        "n_pliegues <- 10\n",
        "\n",
        "tibble(\n",
        "  pliegues = createFolds(muestra$MATEMATICAS_PUNT, k = n_pliegues),\n",
        "  rmse_pliegues = mclapply(\n",
        "    pliegues,\n",
        "    rmse_fold, \n",
        "    MATEMATICAS_PUNT ~., \n",
        "    muestra, \n",
        "    nn_size = neuronas, \n",
        "    mc.cores = floor(detectCores()*0.8)\n",
        "  ) %>% unlist,\n",
        "  nombres = names(pliegues)\n",
        ") -> validacion\n",
        "\n",
        "validacion %$% mean(rmse_pliegues)\n",
        "\n",
        "ggplot(validacion) +\n",
        "  geom_vline(aes(xintercept = 0), size = 1.5) +\n",
        "  geom_segment(aes(x = 0, y = nombres, xend = rmse_pliegues, yend = nombres), colour = \"grey75\") +\n",
        "  geom_point(aes(x = rmse_pliegues, y = nombres), size = 4) +\n",
        "  theme_minimal()"
      ],
      "execution_count": null,
      "outputs": [
        {
          "output_type": "display_data",
          "data": {
            "text/plain": [
              "[1] 11.41715"
            ],
            "text/latex": "11.4171542744646",
            "text/markdown": "11.4171542744646",
            "text/html": [
              "11.4171542744646"
            ]
          },
          "metadata": {
            "tags": []
          }
        },
        {
          "output_type": "display_data",
          "data": {
            "image/png": "[encoded data removed]",
            "text/plain": [
              "plot without title"
            ]
          },
          "metadata": {
            "tags": [],
            "image/png": {
              "width": 420,
              "height": 420
            }
          }
        }
      ]
    }
  ]
}