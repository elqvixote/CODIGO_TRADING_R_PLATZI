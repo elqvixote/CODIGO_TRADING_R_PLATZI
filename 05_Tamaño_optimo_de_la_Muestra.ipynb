{
  "nbformat": 4,
  "nbformat_minor": 0,
  "metadata": {
    "colab": {
      "name": "05 - Tamaño optimo de la Muestra.ipynb",
      "provenance": [],
      "include_colab_link": true
    },
    "kernelspec": {
      "name": "ir",
      "display_name": "R"
    }
  },
  "cells": [
    {
      "cell_type": "markdown",
      "metadata": {
        "id": "view-in-github",
        "colab_type": "text"
      },
      "source": [
        "<a href=\"https://colab.research.google.com/github/elqvixote/CODIGO_TRADING_R_PLATZI/blob/master/05_Tama%C3%B1o_optimo_de_la_Muestra.ipynb\" target=\"_parent\"><img src=\"https://colab.research.google.com/assets/colab-badge.svg\" alt=\"Open In Colab\"/></a>"
      ]
    },
    {
      "cell_type": "code",
      "metadata": {
        "colab": {
          "base_uri": "https://localhost:8080/"
        },
        "id": "zhObun9YSwn5",
        "outputId": "e0970122-dc8a-4657-cfc3-11e986f97e68"
      },
      "source": [
        "# Paquetes \n",
        "\n",
        "install.packages(\"devtools\")\n",
        "install.packages(\"caret\")\n",
        "devtools::install_github(\"nebulae-co/saber\")\n",
        "\n",
        "library(\"saber\")\n",
        "library(\"nnet\")\n",
        "library(\"caret\")\n",
        "library(\"parallel\")\n",
        "\n",
        "data(\"SB11_20112\")"
      ],
      "execution_count": null,
      "outputs": [
        {
          "output_type": "stream",
          "text": [
            "Installing package into ‘/usr/local/lib/R/site-library’\n",
            "(as ‘lib’ is unspecified)\n",
            "\n",
            "Installing package into ‘/usr/local/lib/R/site-library’\n",
            "(as ‘lib’ is unspecified)\n",
            "\n",
            "also installing the dependencies ‘numDeriv’, ‘SQUAREM’, ‘lava’, ‘prodlim’, ‘iterators’, ‘data.table’, ‘gower’, ‘ipred’, ‘timeDate’, ‘foreach’, ‘plyr’, ‘ModelMetrics’, ‘reshape2’, ‘recipes’, ‘pROC’\n",
            "\n",
            "\n",
            "Downloading GitHub repo nebulae-co/saber@HEAD\n",
            "\n"
          ],
          "name": "stderr"
        },
        {
          "output_type": "stream",
          "text": [
            "\u001b[32m✔\u001b[39m  \u001b[90mchecking for file ‘/tmp/RtmpF543UA/remotes3836f3f489/nebulae-co-saber-04cded4/DESCRIPTION’\u001b[39m\u001b[36m\u001b[39m\n",
            "\u001b[90m─\u001b[39m\u001b[90m  \u001b[39m\u001b[90mpreparing ‘saber’:\u001b[39m\u001b[36m\u001b[36m (334ms)\u001b[36m\u001b[39m\n",
            "\u001b[32m✔\u001b[39m  \u001b[90mchecking DESCRIPTION meta-information\u001b[39m\u001b[36m\u001b[39m\n",
            "\u001b[90m─\u001b[39m\u001b[90m  \u001b[39m\u001b[90mchecking for LF line-endings in source and make files and shell scripts\u001b[39m\u001b[36m\u001b[39m\n",
            "\u001b[90m─\u001b[39m\u001b[90m  \u001b[39m\u001b[90mchecking for empty or unneeded directories\u001b[39m\u001b[36m\u001b[39m\n",
            "\u001b[90m─\u001b[39m\u001b[90m  \u001b[39m\u001b[90mlooking to see if a ‘data/datalist’ file should be added\u001b[39m\u001b[36m\u001b[39m\n",
            "\u001b[90m─\u001b[39m\u001b[90m  \u001b[39m\u001b[90mbuilding ‘saber_0.0.0.9500.tar.gz’\u001b[39m\u001b[36m\u001b[39m\n",
            "   \n"
          ],
          "name": "stdout"
        },
        {
          "output_type": "stream",
          "text": [
            "Installing package into ‘/usr/local/lib/R/site-library’\n",
            "(as ‘lib’ is unspecified)\n",
            "\n",
            "Loading required package: lattice\n",
            "\n",
            "Loading required package: ggplot2\n",
            "\n"
          ],
          "name": "stderr"
        }
      ]
    },
    {
      "cell_type": "code",
      "metadata": {
        "id": "jn5ugH5RS6Nj"
      },
      "source": [
        "# función de pliegue\n",
        "\n",
        "rmse_fold <- function(pliegue, form, datos,  nn_size){\n",
        "  pliegue_logic <- seq_len(nrow(datos)) %in% pliegue\n",
        "  entrena <- subset(datos, !pliegue_logic)\n",
        "  prueba <- subset(datos, pliegue_logic)\n",
        "  modelo <- nnet(form, data = datos, size = nn_size, linout = TRUE, trace = FALSE)\n",
        "  response_name <- setdiff(names(datos), modelo$coefnames)\n",
        "  Y_pronosticado <- predict(modelo, newdata = prueba)\n",
        "  rmse <- RMSE(Y_pronosticado, prueba[[response_name]])\n",
        "  rmse\n",
        "}"
      ],
      "execution_count": null,
      "outputs": []
    },
    {
      "cell_type": "code",
      "metadata": {
        "id": "A-0KIeWTUEDI"
      },
      "source": [
        "calcula_rmse_tam <-function(tamano_muestral){\n",
        "  indices_muestra <- seq_len(nrow(SB11_20112)) %in% sample(seq_len(nrow(SB11_20112)), tamano_muestral)\n",
        "  \n",
        "  muestra <- subset(SB11_20112, subset = indices_muestra, select = variables)\n",
        "  muestra <- na.omit(muestra)\n",
        "  \n",
        "  createFolds(muestra$MATEMATICAS_PUNT, k = n_pliegues) -> pliegues\n",
        "  \n",
        "  lapply(\n",
        "    pliegues,\n",
        "    rmse_fold, \n",
        "    MATEMATICAS_PUNT ~., \n",
        "    muestra, \n",
        "    nn_size = neuronas \n",
        "  ) -> rmse_pliegues\n",
        "  mean(unlist(rmse_pliegues))\n",
        "}"
      ],
      "execution_count": null,
      "outputs": []
    },
    {
      "cell_type": "code",
      "metadata": {
        "id": "Q2zPq9-4TLoA"
      },
      "source": [
        "tamano_muestral_max <- 10000\n",
        "iteraciones <- 20\n",
        "tamano_muestral <- floor(seq(500, tamano_muestral_max, length.out = iteraciones))\n",
        "n_pliegues <- 4\n",
        "neuronas <- 20\n",
        "\n",
        "\n",
        "c(\n",
        "  \"ECON_PERSONAS_HOGAR\",\n",
        "  \"ECON_CUARTOS\",\n",
        "  \"ECON_SN_LAVADORA\",\n",
        "  \"ECON_SN_NEVERA\",\n",
        "  \"ECON_SN_HORNO\",\n",
        "  \"ECON_SN_DVD\",\n",
        "  \"ECON_SN_MICROHONDAS\",\n",
        "  \"ECON_SN_AUTOMOVIL\",\n",
        "  \"MATEMATICAS_PUNT\"\n",
        ") -> variables"
      ],
      "execution_count": null,
      "outputs": []
    },
    {
      "cell_type": "code",
      "metadata": {
        "id": "PNLSmxu9Ulrk"
      },
      "source": [
        "mclapply(\n",
        "  tamano_muestral,\n",
        "  calcula_rmse_tam,\n",
        "  mc.cores = 7\n",
        ") -> rmse_por_tam"
      ],
      "execution_count": null,
      "outputs": []
    },
    {
      "cell_type": "code",
      "metadata": {
        "colab": {
          "base_uri": "https://localhost:8080/",
          "height": 437
        },
        "id": "SGPN2NrWVCzB",
        "outputId": "1c40a7bf-3cbc-48b2-b520-92790a295c69"
      },
      "source": [
        "rmse_por_tam <- unlist(rmse_por_tam)\n",
        "\n",
        "plot(tamano_muestral, rmse_por_tam, ylim = c(0, 14))"
      ],
      "execution_count": null,
      "outputs": [
        {
          "output_type": "display_data",
          "data": {
            "image/png": "[encoded data removed]",
            "text/plain": [
              "plot without title"
            ]
          },
          "metadata": {
            "tags": [],
            "image/png": {
              "width": 420,
              "height": 420
            }
          }
        }
      ]
    },
    {
      "cell_type": "code",
      "metadata": {
        "colab": {
          "base_uri": "https://localhost:8080/"
        },
        "id": "I_udpmEoVbUZ",
        "outputId": "14231294-8db7-41db-9be3-4def164470bc"
      },
      "source": [
        "# Interpretación\n",
        "\n",
        "tamano_muestral <- 5000\n",
        "\n",
        "indices_muestra <- seq_len(nrow(SB11_20112)) %in% sample(seq_len(nrow(SB11_20112)), tamano_muestral)\n",
        "  \n",
        "muestra <- subset(SB11_20112, subset = indices_muestra, select = variables)\n",
        "muestra <- na.omit(muestra)\n",
        "\n",
        "red_neuronal <- nnet(MATEMATICAS_PUNT ~ ., data = muestra, size = neuronas, linout = TRUE)"
      ],
      "execution_count": null,
      "outputs": [
        {
          "output_type": "stream",
          "text": [
            "# weights:  201\n",
            "initial  value 10843422.429035 \n",
            "iter  10 value 662002.729610\n",
            "iter  20 value 652758.528229\n",
            "iter  30 value 650121.170879\n",
            "iter  40 value 646989.494495\n",
            "iter  50 value 644746.599166\n",
            "iter  60 value 643214.944941\n",
            "iter  70 value 641174.349394\n",
            "iter  80 value 639384.355918\n",
            "iter  90 value 636465.569591\n",
            "iter 100 value 634769.886185\n",
            "final  value 634769.886185 \n",
            "stopped after 100 iterations\n"
          ],
          "name": "stdout"
        }
      ]
    },
    {
      "cell_type": "code",
      "metadata": {
        "id": "nssRA3WKsor6"
      },
      "source": [
        "predict(red_neuronal, newdata = SB11_20112) -> puntaje_pronosticado"
      ],
      "execution_count": null,
      "outputs": []
    },
    {
      "cell_type": "code",
      "metadata": {
        "colab": {
          "base_uri": "https://localhost:8080/",
          "height": 437
        },
        "id": "JrjNE5Dps-xn",
        "outputId": "820d5e2c-89d2-4368-9c75-8739f3daaee3"
      },
      "source": [
        "nuevo_puntaje_mat <- SB11_20112$MATEMATICAS_PUNT - puntaje_pronosticado\n",
        "nuevo_puntaje_mat <- na.omit(nuevo_puntaje_mat)\n",
        "\n",
        "plot(density(nuevo_puntaje_mat))"
      ],
      "execution_count": null,
      "outputs": [
        {
          "output_type": "display_data",
          "data": {
            "image/png": "[encoded data removed]",
            "text/plain": [
              "Plot with title “density.default(x = nuevo_puntaje_mat)”"
            ]
          },
          "metadata": {
            "tags": [],
            "image/png": {
              "width": 420,
              "height": 420
            }
          }
        }
      ]
    }
  ]
}